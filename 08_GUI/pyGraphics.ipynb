{
 "cells": [
  {
   "cell_type": "markdown",
   "metadata": {},
   "source": [
    "# GUI"
   ]
  },
  {
   "cell_type": "markdown",
   "metadata": {},
   "source": [
    "<code>window. mainloop()</code> tells Python to run the Tkinter event loop. This method listens for events, such as button clicks or keypresses, and blocks any code that comes after it from running until you close the window where you called the method"
   ]
  },
  {
   "cell_type": "code",
   "execution_count": null,
   "metadata": {},
   "outputs": [],
   "source": [
    "import tkinter as tk\n",
    "\n",
    "class Window(tk.Tk):\n",
    "    def __init__(self):\n",
    "        super().__init__()\n",
    "        self.title(\"Hello Tkinter\")\n",
    "        label = tk.Label(self, text=\"Hello World!\")\n",
    "        label.pack(fill=tk.BOTH, expand=1, padx=100, pady=50)\n",
    "\n",
    "if __name__ == \"__main__\":\n",
    "    window = Window()\n",
    "    window.mainloop()"
   ]
  },
  {
   "cell_type": "code",
   "execution_count": null,
   "metadata": {},
   "outputs": [],
   "source": [
    "import tkinter as tk\n",
    "\n",
    "class Window(tk.Tk):\n",
    "    def __init__(self):\n",
    "        super().__init__()\n",
    "        self.title(\"Hello Tkinter\")\n",
    "        \n",
    "        self.label = tk.Label(self, text=\"Choose One\")\n",
    "        self.label.pack(fill=tk.BOTH, expand=1, padx=100, pady=30)\n",
    "        \n",
    "        hello_button = tk.Button(self, text=\"Say Hello\",command=self.say_hello)\n",
    "        hello_button.pack(side=tk.LEFT, padx=(20, 0), pady=(0, 20))\n",
    "        goodbye_button = tk.Button(self, text=\"Say Goodbye\",command=self.say_goodbye)\n",
    "        goodbye_button.pack(side=tk.RIGHT, padx=(0, 20), pady=(0, 20))\n",
    "\n",
    "    def say_hello(self):\n",
    "        self.label.configure(text=\"Hello World!\")\n",
    "\n",
    "    def say_goodbye(self):\n",
    "        self.label.configure(text=\"Goodbye! \\n (Closing in 2 seconds)\")\n",
    "        self.after(2000, self.destroy)\n",
    "        \n",
    "if __name__ == \"__main__\":\n",
    "    window = Window()\n",
    "    window.mainloop()"
   ]
  },
  {
   "cell_type": "code",
   "execution_count": null,
   "metadata": {},
   "outputs": [
    {
     "ename": "",
     "evalue": "",
     "output_type": "error",
     "traceback": [
      "\u001b[1;31mThe Kernel crashed while executing code in the the current cell or a previous cell. Please review the code in the cell(s) to identify a possible cause of the failure. Click <a href='https://aka.ms/vscodeJupyterKernelCrash'>here</a> for more info. View Jupyter <a href='command:jupyter.viewOutput'>log</a> for further details."
     ]
    }
   ],
   "source": [
    "import tkinter as tk\n",
    "\n",
    "class Todo(tk.Tk):\n",
    "    def __init__(self, tasks=None):\n",
    "        super().__init__()\n",
    "        if not tasks:\n",
    "            self.tasks = []\n",
    "        else: self.tasks = tasks\n",
    "        \n",
    "        self.title(\"To-Do App v1\")\n",
    "        self.geometry(\"300x400\")\n",
    "        \n",
    "        #todo1 = tk.Label(self, text=\"--- Add Items Here ---\", bg=\"lightgrey\", fg=\"black\", pady=10)\n",
    "        #self.tasks.append(todo1)\n",
    "        for task in self.tasks:\n",
    "            task.pack(side=tk.TOP, fill=tk.X)\n",
    "        self.task_create = tk.Text(self, height=3, bg=\"white\", fg=\"black\")\n",
    "        self.task_create.pack(side=tk.BOTTOM, fill=tk.X)\n",
    "        self.task_create.focus_set()\n",
    "        self.bind(\"<Return>\", self.add_task)\n",
    "        self.colour_schemes = [{\"bg\": \"lightgrey\", \"fg\": \"black\"}, {\"bg\": \"grey\", \"fg\": \"white\"}]\n",
    "    def add_task(self, event=None):\n",
    "        task_text = self.task_create.get(1.0,tk.END).strip()\n",
    "        if len(task_text) > 0:\n",
    "            new_task = tk.Label(self, text=task_text, pady=10)\n",
    "            _, task_style_choice = divmod(len(self.tasks), 2)\n",
    "            my_scheme_choice = self.colour_schemes[task_style_choice]\n",
    "            new_task.configure(bg=my_scheme_choice[\"bg\"])\n",
    "            new_task.configure(fg=my_scheme_choice[\"fg\"])\n",
    "            new_task.pack(side=tk.TOP, fill=tk.X)\n",
    "            self.tasks.append(new_task)\n",
    "        self.task_create.delete(1.0, tk.END)\n",
    "\n",
    "if __name__ == \"__main__\":\n",
    "    todo = Todo()\n",
    "    todo.mainloop()"
   ]
  },
  {
   "cell_type": "code",
   "execution_count": null,
   "metadata": {},
   "outputs": [],
   "source": []
  }
 ],
 "metadata": {
  "kernelspec": {
   "display_name": "Python 3.10.4 64-bit",
   "language": "python",
   "name": "python3"
  },
  "language_info": {
   "codemirror_mode": {
    "name": "ipython",
    "version": 3
   },
   "file_extension": ".py",
   "mimetype": "text/x-python",
   "name": "python",
   "nbconvert_exporter": "python",
   "pygments_lexer": "ipython3",
   "version": "3.10.4"
  },
  "orig_nbformat": 4,
  "vscode": {
   "interpreter": {
    "hash": "aee8b7b246df8f9039afb4144a1f6fd8d2ca17a180786b69acc140d282b71a49"
   }
  }
 },
 "nbformat": 4,
 "nbformat_minor": 2
}

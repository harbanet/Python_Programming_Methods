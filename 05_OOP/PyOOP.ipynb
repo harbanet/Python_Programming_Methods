{
 "cells": [
  {
   "cell_type": "markdown",
   "id": "6c455cb0",
   "metadata": {},
   "source": [
    "# Object Oriented Programming\n",
    "## Introduction\n",
    "\n",
    "In object-oriented programming you write classes that represent real-world things and situations, and you create objects based on these classes.\n",
    "\n",
    "### Class  and Object\n",
    "A class is a blueprint for creating objects (a particular data structure). Classes - user defined data types. Objects are instances (instatiation) of the class, with a characteristic of attributes(data, variables) and oerations of methods (functionality). \n",
    "\n",
    "In Python, everything is an object. We use a special method __init__() to create objects from Python classes (used to initialize the attributes of an object)."
   ]
  },
  {
   "cell_type": "code",
   "execution_count": 7,
   "id": "62c4bc33",
   "metadata": {},
   "outputs": [
    {
     "data": {
      "text/plain": [
       "list"
      ]
     },
     "execution_count": 7,
     "metadata": {},
     "output_type": "execute_result"
    }
   ],
   "source": [
    "# recall\n",
    "lst = [1,2,3,4,5,2,6,7,8,2]\n",
    "lst.count(2) # call the function count from the list object\n",
    "type(lst) # all are objects in python"
   ]
  },
  {
   "cell_type": "code",
   "execution_count": 8,
   "id": "6efedf0a",
   "metadata": {},
   "outputs": [
    {
     "name": "stdout",
     "output_type": "stream",
     "text": [
      "<class '__main__.Sample'>\n"
     ]
    }
   ],
   "source": [
    "# Create a new object type called Sample\n",
    "class Sample:\n",
    "    pass\n",
    "\n",
    "# Instance of Sample\n",
    "x = Sample()\n",
    "\n",
    "print(type(x))"
   ]
  },
  {
   "cell_type": "code",
   "execution_count": 5,
   "id": "443c299c",
   "metadata": {},
   "outputs": [
    {
     "name": "stdout",
     "output_type": "stream",
     "text": [
      "green\n"
     ]
    }
   ],
   "source": [
    "class Fruit:\n",
    "    def __init__(self):\n",
    "        self.name = \"apple\" # not a good approach very limiting \n",
    "        self.colour = \"green\" # syntax for creating an attribute\n",
    "my_fruit = Fruit()\n",
    "print(my_fruit.colour)"
   ]
  },
  {
   "cell_type": "code",
   "execution_count": 6,
   "id": "b1ea51a7",
   "metadata": {},
   "outputs": [
    {
     "name": "stdout",
     "output_type": "stream",
     "text": [
      "green\n",
      "orange\n"
     ]
    }
   ],
   "source": [
    "my_fruit.colour = \"green\"\n",
    "my_fruit.name = \"orange\"\n",
    "print(my_fruit.colour)\n",
    "print(my_fruit.name)"
   ]
  },
  {
   "cell_type": "markdown",
   "id": "f1552d83",
   "metadata": {},
   "source": [
    "###  self Parameter\n",
    "The variables defined have the prefix self.\n",
    "i. Any variable prefixed with self indicates the variable is available to every method in the class.\n",
    "ii. It is used to access variables that belong to the class."
   ]
  },
  {
   "cell_type": "markdown",
   "id": "b85a2947",
   "metadata": {},
   "source": [
    "## Methods\n",
    "\n",
    "Functions defined inside the body of a class that perform operations with the attributes of the objects. Functions that act on an Object that take the Object itself into account through its *self* argument."
   ]
  },
  {
   "cell_type": "code",
   "execution_count": 15,
   "id": "77697bb4",
   "metadata": {},
   "outputs": [
    {
     "name": "stdout",
     "output_type": "stream",
     "text": [
      "Radius is: 1\n",
      "Area is: 3.142\n",
      "Circumference is: 6.283\n"
     ]
    }
   ],
   "source": [
    "# a Circle class:\n",
    "import math\n",
    "\n",
    "class Circle:\n",
    "    pi = math.pi\n",
    "\n",
    "    # Circle gets instantiated with a radius (default is 1)\n",
    "    def __init__(self, radius=1):\n",
    "        self.radius = radius \n",
    "        self.area = radius * radius * Circle.pi\n",
    "\n",
    "    # Method for resetting Radius\n",
    "    def setRadius(self, new_radius):\n",
    "        self.radius = new_radius\n",
    "        self.area = new_radius * new_radius * self.pi # work with an existing Circle object that does have its own pi attribute\n",
    "\n",
    "    # Method for getting Circumference\n",
    "    def getCircumference(self):\n",
    "        return self.radius * self.pi * 2\n",
    "\n",
    "\n",
    "c = Circle()\n",
    "\n",
    "print(f\"Radius is: {c.radius}\")\n",
    "print(f\"Area is: {c.area:.3f}\")\n",
    "print(f\"Circumference is: {c.getCircumference():.3f}\")"
   ]
  },
  {
   "cell_type": "code",
   "execution_count": 16,
   "id": "89f1fa33",
   "metadata": {},
   "outputs": [
    {
     "name": "stdout",
     "output_type": "stream",
     "text": [
      "Radius is: 3\n",
      "Area is: 28.274\n",
      "Circumference is: 18.850\n"
     ]
    }
   ],
   "source": [
    "# change the radius and see how that affects our Circle object\n",
    "c.setRadius(3)\n",
    "print(f\"Radius is: {c.radius}\")\n",
    "print(f\"Area is: {c.area:.3f}\")\n",
    "print(f\"Circumference is: {c.getCircumference():.3f}\")"
   ]
  },
  {
   "cell_type": "markdown",
   "id": "8428105d",
   "metadata": {},
   "source": [
    "## Inheritance\n",
    "The ability of a class definition to use attributes and methods that have been defined in another class. bThe sub class inherits these attributes and methods of the super class."
   ]
  },
  {
   "cell_type": "code",
   "execution_count": 31,
   "id": "042f4ca5",
   "metadata": {},
   "outputs": [
    {
     "name": "stdout",
     "output_type": "stream",
     "text": [
      "Shape Constructor\n"
     ]
    },
    {
     "ename": "TypeError",
     "evalue": "area() takes 0 positional arguments but 1 was given",
     "output_type": "error",
     "traceback": [
      "\u001b[0;31m---------------------------------------------------------------------------\u001b[0m",
      "\u001b[0;31mTypeError\u001b[0m                                 Traceback (most recent call last)",
      "\u001b[0;32m/var/folders/w6/0wcwstvj4nj1gk_15vpb92gr0000gp/T/ipykernel_72003/2558501679.py\u001b[0m in \u001b[0;36m<module>\u001b[0;34m\u001b[0m\n\u001b[1;32m     16\u001b[0m \u001b[0;34m\u001b[0m\u001b[0m\n\u001b[1;32m     17\u001b[0m \u001b[0mc\u001b[0m \u001b[0;34m=\u001b[0m \u001b[0mShape\u001b[0m\u001b[0;34m(\u001b[0m\u001b[0;34m)\u001b[0m\u001b[0;34m\u001b[0m\u001b[0;34m\u001b[0m\u001b[0m\n\u001b[0;32m---> 18\u001b[0;31m \u001b[0mc\u001b[0m\u001b[0;34m.\u001b[0m\u001b[0marea\u001b[0m\u001b[0;34m(\u001b[0m\u001b[0;34m)\u001b[0m\u001b[0;34m\u001b[0m\u001b[0;34m\u001b[0m\u001b[0m\n\u001b[0m",
      "\u001b[0;31mTypeError\u001b[0m: area() takes 0 positional arguments but 1 was given"
     ]
    }
   ],
   "source": [
    "class  Shape:\n",
    "    def  __init__(self): \n",
    "        print(\"Shape Constructor\")\n",
    "    def  area():\n",
    "        print(\"Area of shape\")\n",
    "    def  perimeter(): \n",
    "        print(\"Perimeter of shape\")\n",
    "        \n",
    "class  Circle(Shape):\n",
    "    def  __init__(self, r):\n",
    "        Shape.__init__(self) #Calling parent constructor\n",
    "        self.radius = r\n",
    "        print(\"Circle Constructor\")\n",
    "    def area(self): \n",
    "        print(\"Area of circle is:\", 3.142*self.radius*self.radius)\n",
    "            \n",
    "c = Shape()\n",
    "c.area()\n"
   ]
  },
  {
   "cell_type": "markdown",
   "id": "20eea149",
   "metadata": {},
   "source": [
    "## Polymorphism\n",
    "Polymorphism - having different forms. Based on the context, an object can have different meaning. As inheritance is related to classes, polymorphism is related to methods. In Python, method overriding is one way of implementing polymorphism.\n",
    "\n",
    "### Method Overriding\n",
    "A base class and the derived class having a method with the same signature. The derived class method can provide different functionality when compared to the base class method.\n",
    "Method Overloading is a form of Compile time polymorphism (more than a single method belonging to a single class can share a similar method name while having different signatures). Meanwhile, Method Overriding is a type of run-time polymorphism (the child class provides a specific implementation of any method that the parent class already provides)"
   ]
  },
  {
   "cell_type": "code",
   "execution_count": 1,
   "id": "ffc57ef2",
   "metadata": {},
   "outputs": [
    {
     "name": "stdout",
     "output_type": "stream",
     "text": [
      "Shape Constructor\n",
      "Circle Constructor\n",
      "Area of circle is: 78.55\n"
     ]
    }
   ],
   "source": [
    "class  Shape:\n",
    "    def  __init__(self): \n",
    "        print(\"Shape Constructor\")\n",
    "    def  area(self): \n",
    "        print(\"Area of shape\")\n",
    "    def  perimeter(self):\n",
    "        print(\"Perimeter of shape\")\n",
    "        \n",
    "class  Circle(Shape):\n",
    "    def  __init__(self, r):\n",
    "        Shape.__init__(self) #Calling parent constructor\n",
    "        self.radius = r\n",
    "        print(\"Circle Constructor\")\n",
    "    # try commenting out this and you will notice that the parent class area() takes over\n",
    "    def  area(self):\n",
    "        print(\"Area of circle is:\", 3.142*self.radius*self.radius)\n",
    "        \n",
    "c = Circle(5)\n",
    "c.area() #Circle class area method overrides Shape class area method"
   ]
  },
  {
   "cell_type": "code",
   "execution_count": 36,
   "id": "30e94157",
   "metadata": {},
   "outputs": [
    {
     "name": "stdout",
     "output_type": "stream",
     "text": [
      "31\n",
      "a b\n"
     ]
    }
   ],
   "source": [
    "# Method Overloading Example\n",
    "\n",
    "def add(datatype, *args):\n",
    "    if datatype =='int':\n",
    "        x = 1\n",
    "    if datatype =='str':\n",
    "        x =''\n",
    "    for i in args:\n",
    "        x = x + i\n",
    "    print(x)\n",
    "add('int', 10, 20)\n",
    "add('str', 'a ', 'b')"
   ]
  },
  {
   "cell_type": "code",
   "execution_count": 37,
   "id": "736e43ce",
   "metadata": {},
   "outputs": [
    {
     "name": "stdout",
     "output_type": "stream",
     "text": [
      "Modified feature_1 of class A by class B\n"
     ]
    }
   ],
   "source": [
    "class A:\n",
    "\n",
    "    def method1(self):\n",
    "        print('feature_1 of class A')\n",
    "\n",
    "    def method2(self):\n",
    "        print('feature_2 of class A')\n",
    "\n",
    "class B(A):\n",
    "    # Modified function that is already exist in class A\n",
    "\n",
    "    def method1(self):\n",
    "        print('Modified feature_1 of class A by class B')\n",
    "        \n",
    "    def method2(self):\n",
    "        print('feature_3 of class B')\n",
    "\n",
    "# Create instance\n",
    "b = B()\n",
    "\n",
    "# Call the override function\n",
    "b.method1()\n",
    "\n"
   ]
  },
  {
   "cell_type": "markdown",
   "id": "02c99eff",
   "metadata": {},
   "source": [
    "## Exercise 7\n",
    "\n",
    "Implement a class called Team that stores and manipulates information about a competitive team (e.g., soccer, debate, baseball). Each team keeps track of its name, year, city, wins, and losses. In addition:\n",
    "- The constructor should take parameters for the name, year, and city. It should initializes the number of wins and losses to 0.\n",
    "- Write a method to create a string summarizing the team’s data (e.g., \"2018 Arsenal: 12 wins, 0 losses\")\n",
    "- Have a method wonGame that increments the team’s number of wins by 1.\n",
    "- Similarly, have a lostGame that updates the number of losses.\n",
    "- Write a method, getWinPercent that returns the percentage of games won out of the total number of games played. If a team has played 0 games, return a winning percentage of 0%. If a team has won 3 out of 4 games, return a winning percentage of 75%."
   ]
  },
  {
   "cell_type": "code",
   "execution_count": null,
   "id": "ba081a33",
   "metadata": {},
   "outputs": [],
   "source": []
  }
 ],
 "metadata": {
  "kernelspec": {
   "display_name": "Python 3.10.4 64-bit",
   "language": "python",
   "name": "python3"
  },
  "language_info": {
   "codemirror_mode": {
    "name": "ipython",
    "version": 3
   },
   "file_extension": ".py",
   "mimetype": "text/x-python",
   "name": "python",
   "nbconvert_exporter": "python",
   "pygments_lexer": "ipython3",
   "version": "3.10.4"
  },
  "vscode": {
   "interpreter": {
    "hash": "aee8b7b246df8f9039afb4144a1f6fd8d2ca17a180786b69acc140d282b71a49"
   }
  }
 },
 "nbformat": 4,
 "nbformat_minor": 5
}
